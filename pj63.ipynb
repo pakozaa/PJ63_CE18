{
  "nbformat": 4,
  "nbformat_minor": 0,
  "metadata": {
    "colab": {
      "name": "pj63.ipynb",
      "provenance": [],
      "collapsed_sections": [
        "xz2AKzHK5loP"
      ]
    },
    "kernelspec": {
      "name": "python3",
      "display_name": "Python 3"
    },
    "accelerator": "GPU"
  },
  "cells": [
    {
      "cell_type": "code",
      "metadata": {
        "id": "g3EoKo4E5TmB",
        "colab_type": "code",
        "colab": {
          "base_uri": "https://localhost:8080/",
          "height": 17
        },
        "outputId": "9eaedd69-3901-4ec4-f4c2-d7c46ecc489c"
      },
      "source": [
        "\"\"\"\n",
        "%tensorflow_version 2.x\n",
        "import tensorflow as tf\n",
        "import numpy as np\n",
        "import pandas as pd \n",
        "from matplotlib import pyplot as plt\n",
        "\n",
        "from tensorflow import  keras\n",
        "from tensorflow.keras import layers\"\"\"\n",
        "\n",
        "import os, sys\n",
        "import os.path\n",
        "import numpy as np\n",
        "import pandas as pd\n",
        "import datetime \n",
        "\n",
        "#pd.core.common.is_list_like = pd.api.types.is_list_like\n",
        "\n",
        "from pandas_datareader import data as pdr\n",
        "from tqdm import tqdm, trange\n",
        "\n",
        "import matplotlib.pyplot as plt\n",
        "import pandas as pd\n",
        "from IPython.core.display import display, HTML\n",
        "\n",
        "display(HTML(\"<style>.container { width:90% !important; }</style>\"))\n",
        "pd.options.display.max_columns = 999\n",
        "pd.options.display.max_rows = 999"
      ],
      "execution_count": 174,
      "outputs": [
        {
          "output_type": "display_data",
          "data": {
            "text/html": [
              "<style>.container { width:90% !important; }</style>"
            ],
            "text/plain": [
              "<IPython.core.display.HTML object>"
            ]
          },
          "metadata": {
            "tags": []
          }
        }
      ]
    },
    {
      "cell_type": "code",
      "metadata": {
        "id": "6S3ngn-Aqaf_",
        "colab_type": "code",
        "colab": {
          "base_uri": "https://localhost:8080/",
          "height": 34
        },
        "outputId": "77591b2e-78aa-488e-ab22-2b99dba68898"
      },
      "source": [
        "from google.colab import drive\n",
        "drive.mount('/content/drive')"
      ],
      "execution_count": 175,
      "outputs": [
        {
          "output_type": "stream",
          "text": [
            "Drive already mounted at /content/drive; to attempt to forcibly remount, call drive.mount(\"/content/drive\", force_remount=True).\n"
          ],
          "name": "stdout"
        }
      ]
    },
    {
      "cell_type": "markdown",
      "metadata": {
        "id": "xz2AKzHK5loP",
        "colab_type": "text"
      },
      "source": [
        "## **Test**"
      ]
    },
    {
      "cell_type": "code",
      "metadata": {
        "id": "brJZAe8d506x",
        "colab_type": "code",
        "colab": {
          "base_uri": "https://localhost:8080/",
          "height": 265
        },
        "outputId": "bcff07a7-8a12-4169-de97-e602603cc6fc"
      },
      "source": [
        "N = 100\n",
        "X = np.random.rand(N,1)\n",
        "Y = np.sin(2 * np.pi * X) + 0.4 * np.random.rand(N,1)\n",
        "plt.plot(X,Y,'.')\n",
        "plt.show()"
      ],
      "execution_count": null,
      "outputs": [
        {
          "output_type": "display_data",
          "data": {
            "image/png": "[encoded data removed]",
            "text/plain": [
              "<Figure size 432x288 with 1 Axes>"
            ]
          },
          "metadata": {
            "tags": [],
            "needs_background": "light"
          }
        }
      ]
    },
    {
      "cell_type": "code",
      "metadata": {
        "id": "MP1KuEKX6It7",
        "colab_type": "code",
        "colab": {
          "base_uri": "https://localhost:8080/",
          "height": 231
        },
        "outputId": "96c1421b-a513-453b-abbc-a36ba90ce613"
      },
      "source": [
        "#  1-100-100-1\n",
        "inputs = keras.Input(shape=(1,))\n",
        "d1 = layers.Dense(100,activation='relu')\n",
        "d2 = layers.Dense(100,activation='relu')\n",
        "d3 = layers.Dense(1)\n",
        "outputs = d3(d2(d1(inputs)))\n",
        "model = keras.Model(inputs,outputs)\n",
        "model.compile(optimizer=keras.optimizers.SGD(learning_rate=0.1),loss=keras.losses.MeanSquaredError())\n",
        "\n",
        "\n",
        "\n",
        "\n"
      ],
      "execution_count": null,
      "outputs": [
        {
          "output_type": "error",
          "ename": "NameError",
          "evalue": "ignored",
          "traceback": [
            "\u001b[0;31m---------------------------------------------------------------------------\u001b[0m",
            "\u001b[0;31mNameError\u001b[0m                                 Traceback (most recent call last)",
            "\u001b[0;32m<ipython-input-13-2ad7053fe0d5>\u001b[0m in \u001b[0;36m<module>\u001b[0;34m()\u001b[0m\n\u001b[1;32m      1\u001b[0m \u001b[0;31m#  1-100-100-1\u001b[0m\u001b[0;34m\u001b[0m\u001b[0;34m\u001b[0m\u001b[0;34m\u001b[0m\u001b[0m\n\u001b[0;32m----> 2\u001b[0;31m \u001b[0minputs\u001b[0m \u001b[0;34m=\u001b[0m \u001b[0mkeras\u001b[0m\u001b[0;34m.\u001b[0m\u001b[0mInput\u001b[0m\u001b[0;34m(\u001b[0m\u001b[0mshape\u001b[0m\u001b[0;34m=\u001b[0m\u001b[0;34m(\u001b[0m\u001b[0;36m1\u001b[0m\u001b[0;34m,\u001b[0m\u001b[0;34m)\u001b[0m\u001b[0;34m)\u001b[0m\u001b[0;34m\u001b[0m\u001b[0;34m\u001b[0m\u001b[0m\n\u001b[0m\u001b[1;32m      3\u001b[0m \u001b[0md1\u001b[0m \u001b[0;34m=\u001b[0m \u001b[0mlayers\u001b[0m\u001b[0;34m.\u001b[0m\u001b[0mDense\u001b[0m\u001b[0;34m(\u001b[0m\u001b[0;36m100\u001b[0m\u001b[0;34m,\u001b[0m\u001b[0mactivation\u001b[0m\u001b[0;34m=\u001b[0m\u001b[0;34m'relu'\u001b[0m\u001b[0;34m)\u001b[0m\u001b[0;34m\u001b[0m\u001b[0;34m\u001b[0m\u001b[0m\n\u001b[1;32m      4\u001b[0m \u001b[0md2\u001b[0m \u001b[0;34m=\u001b[0m \u001b[0mlayers\u001b[0m\u001b[0;34m.\u001b[0m\u001b[0mDense\u001b[0m\u001b[0;34m(\u001b[0m\u001b[0;36m100\u001b[0m\u001b[0;34m,\u001b[0m\u001b[0mactivation\u001b[0m\u001b[0;34m=\u001b[0m\u001b[0;34m'relu'\u001b[0m\u001b[0;34m)\u001b[0m\u001b[0;34m\u001b[0m\u001b[0;34m\u001b[0m\u001b[0m\n\u001b[1;32m      5\u001b[0m \u001b[0md3\u001b[0m \u001b[0;34m=\u001b[0m \u001b[0mlayers\u001b[0m\u001b[0;34m.\u001b[0m\u001b[0mDense\u001b[0m\u001b[0;34m(\u001b[0m\u001b[0;36m1\u001b[0m\u001b[0;34m)\u001b[0m\u001b[0;34m\u001b[0m\u001b[0;34m\u001b[0m\u001b[0m\n",
            "\u001b[0;31mNameError\u001b[0m: name 'keras' is not defined"
          ]
        }
      ]
    },
    {
      "cell_type": "code",
      "metadata": {
        "id": "S-BCYTGRMiVI",
        "colab_type": "code",
        "colab": {}
      },
      "source": [
        "model.fit(X,Y,epochs=500)"
      ],
      "execution_count": null,
      "outputs": []
    },
    {
      "cell_type": "code",
      "metadata": {
        "id": "JdlFGByuNyEx",
        "colab_type": "code",
        "colab": {}
      },
      "source": [
        "Z = model.predict(X)\n",
        "plt.plot(X,Z,'.r')\n",
        "plt.plot(X,Y,'.')\n",
        "plt.show()"
      ],
      "execution_count": null,
      "outputs": []
    },
    {
      "cell_type": "markdown",
      "metadata": {
        "id": "FTOrEW-yqIRj",
        "colab_type": "text"
      },
      "source": [
        "# Load Data"
      ]
    },
    {
      "cell_type": "code",
      "metadata": {
        "id": "2zwEZGC1pcKc",
        "colab_type": "code",
        "colab": {}
      },
      "source": [
        "df = pd.read_excel(\"/content/drive/My Drive/Set50_2.xlsx\",sep='\\t')\n"
      ],
      "execution_count": 176,
      "outputs": []
    },
    {
      "cell_type": "code",
      "metadata": {
        "id": "7gXaElDBq03M",
        "colab_type": "code",
        "colab": {
          "base_uri": "https://localhost:8080/",
          "height": 680
        },
        "outputId": "5f7224d8-b560-4e10-e4fc-699671ea8d17"
      },
      "source": [
        "df[30:40]\n",
        "df.info()\n"
      ],
      "execution_count": 211,
      "outputs": [
        {
          "output_type": "stream",
          "text": [
            "<class 'pandas.core.frame.DataFrame'>\n",
            "RangeIndex: 55920 entries, 0 to 55919\n",
            "Data columns (total 32 columns):\n",
            " #   Column        Non-Null Count  Dtype  \n",
            "---  ------        --------------  -----  \n",
            " 0   Timestamp     55920 non-null  object \n",
            " 1   SET50.Open    55920 non-null  float64\n",
            " 2   SET50.High    55920 non-null  float64\n",
            " 3   SET50.Low     55920 non-null  float64\n",
            " 4   SET50.Close   55920 non-null  float64\n",
            " 5   SMA(5)        55916 non-null  float64\n",
            " 6   SMA(12)       55909 non-null  float64\n",
            " 7   SMA(26)       55895 non-null  float64\n",
            " 8   EMA(12)       55909 non-null  float64\n",
            " 9   EMA(26)       55895 non-null  float64\n",
            " 10  MACD          55895 non-null  float64\n",
            " 11  MACD(10)      55886 non-null  float64\n",
            " 12  Change        55919 non-null  float64\n",
            " 13  Gain          26931 non-null  float64\n",
            " 14  Loss          27233 non-null  float64\n",
            " 15  AVG Gain(14)  55906 non-null  float64\n",
            " 16  AVG Loss(14)  55906 non-null  float64\n",
            " 17  RS            55836 non-null  float64\n",
            " 18  RSI           55906 non-null  float64\n",
            " 19  Vol           55920 non-null  object \n",
            " 20  Money         55904 non-null  float64\n",
            " 21  Money(5)      55839 non-null  float64\n",
            " 22  Unnamed: 22   0 non-null      float64\n",
            " 23  1             55843 non-null  float64\n",
            " 24  2             55843 non-null  float64\n",
            " 25  3             55843 non-null  float64\n",
            " 26  4             55843 non-null  float64\n",
            " 27  รด            55843 non-null  object \n",
            " 28  SMA5          55916 non-null  float64\n",
            " 29  SMA12         55909 non-null  float64\n",
            " 30  SMA26         55895 non-null  float64\n",
            " 31  EMA12         55909 non-null  float64\n",
            "dtypes: float64(29), object(3)\n",
            "memory usage: 13.7+ MB\n"
          ],
          "name": "stdout"
        }
      ]
    },
    {
      "cell_type": "markdown",
      "metadata": {
        "id": "8lfyeyQo7pkm",
        "colab_type": "text"
      },
      "source": [
        "# **Load Data from xlsx file**"
      ]
    },
    {
      "cell_type": "code",
      "metadata": {
        "id": "hIY9j_9Z7sKC",
        "colab_type": "code",
        "colab": {}
      },
      "source": [
        "used_features = ['Timestamp','SMA(5)','SMA(12)','SMA(26)','MACD','MACD(10)','RSI','Money(5)']\n",
        "stock = pd.read_excel(\"/content/drive/My Drive/Set50_2.xlsx\", usecols = used_features)\n",
        "#print(stock.shape)\n",
        "stock[40:50]\n",
        "stock.info()\n",
        "for i in [\"SMA(5)\"]:\n",
        "  stock[i] = stock[i].map(lambda x:x.replace(\"-\",''))\n",
        "  stock[i] = stock[i].astype(float)\n"
      ],
      "execution_count": null,
      "outputs": []
    },
    {
      "cell_type": "code",
      "metadata": {
        "id": "jj-DrHrf-BFR",
        "colab_type": "code",
        "colab": {}
      },
      "source": [
        "plt.title(\"SET50\")\n",
        "plt.xlabel('Timestamp')\t\n",
        "plt.ylabel('Closed')\n",
        "plt.plot(df.OBL, df.OSL , 'ob')\n",
        "plt.show()\t\n"
      ],
      "execution_count": null,
      "outputs": []
    },
    {
      "cell_type": "code",
      "metadata": {
        "id": "CrkyknmhL9Mz",
        "colab_type": "code",
        "colab": {}
      },
      "source": [
        "\"\"\"stock.info()\n",
        "stock.dtypes\n",
        "stock['SMA(5)'] = stock['SMA(5)'].astype(float)\"\"\""
      ],
      "execution_count": null,
      "outputs": []
    },
    {
      "cell_type": "markdown",
      "metadata": {
        "id": "5HiDZf1ddGO4",
        "colab_type": "text"
      },
      "source": [
        "## **-------------Indicator-------------**\n",
        "\n",
        "\n"
      ]
    },
    {
      "cell_type": "markdown",
      "metadata": {
        "id": "Sdfsyd3MktjU",
        "colab_type": "text"
      },
      "source": [
        "### Simple Moving Average"
      ]
    },
    {
      "cell_type": "code",
      "metadata": {
        "id": "y2lNnAsUZs-j",
        "colab_type": "code",
        "colab": {}
      },
      "source": [
        "def sma(price_close,day):      \n",
        "    result = price_close.rolling(window=day).mean()\n",
        "    return result "
      ],
      "execution_count": 177,
      "outputs": []
    },
    {
      "cell_type": "markdown",
      "metadata": {
        "id": "TIWxU8P3k2Pl",
        "colab_type": "text"
      },
      "source": [
        "### MACD = Moving Average Convergence/Divergence"
      ]
    },
    {
      "cell_type": "code",
      "metadata": {
        "id": "RIB7olCSlGkY",
        "colab_type": "code",
        "colab": {}
      },
      "source": [
        "def macd( slow, fast):    \n",
        "    result = slow-fast  \n",
        "    return result"
      ],
      "execution_count": 178,
      "outputs": []
    },
    {
      "cell_type": "code",
      "metadata": {
        "id": "8rkcGzvgbc64",
        "colab_type": "code",
        "colab": {}
      },
      "source": [
        "df['SMA5'] = sma(df[\"SET50.Close\"],5)\n",
        "df['SMA12'] = sma(df[\"SET50.Close\"],12)\n",
        "df['SMA26'] = sma(df[\"SET50.Close\"],26)\n",
        "\n",
        "#df.drop(columns=['sma55'],inplace=True)\n",
        "df[\"EMA12\"] = df[\"EMA(12)\"]\n",
        "\n",
        "\n",
        "df.head(10)\n",
        "\n",
        "\n",
        "\n",
        "\n"
      ],
      "execution_count": null,
      "outputs": []
    },
    {
      "cell_type": "markdown",
      "metadata": {
        "id": "FMqhkdV7OcQ1",
        "colab_type": "text"
      },
      "source": [
        "## **features**"
      ]
    },
    {
      "cell_type": "code",
      "metadata": {
        "id": "NiShRD69M54G",
        "colab_type": "code",
        "colab": {
          "base_uri": "https://localhost:8080/",
          "height": 283
        },
        "outputId": "ab3b41cf-2b51-41a5-ede2-9ed05c7acd10"
      },
      "source": [
        "used_features = ['Timestamp','SET50.Open','SET50.Close','SET50.High','SET50.Low','SMA(5)','SMA(12)','SMA(26)','MACD','MACD(10)','RSI','Money','Money(5)']\n",
        "dtn = pd.read_excel(\"/content/drive/My Drive/Set50_2.xlsx\",sep='\\t', usecols = used_features)\n",
        "print(dtn.shape)\n",
        "dtn.head(7)"
      ],
      "execution_count": 213,
      "outputs": [
        {
          "output_type": "stream",
          "text": [
            "(55920, 13)\n"
          ],
          "name": "stdout"
        },
        {
          "output_type": "execute_result",
          "data": {
            "text/html": [
              "<div>\n",
              "<style scoped>\n",
              "    .dataframe tbody tr th:only-of-type {\n",
              "        vertical-align: middle;\n",
              "    }\n",
              "\n",
              "    .dataframe tbody tr th {\n",
              "        vertical-align: top;\n",
              "    }\n",
              "\n",
              "    .dataframe thead th {\n",
              "        text-align: right;\n",
              "    }\n",
              "</style>\n",
              "<table border=\"1\" class=\"dataframe\">\n",
              "  <thead>\n",
              "    <tr style=\"text-align: right;\">\n",
              "      <th></th>\n",
              "      <th>Timestamp</th>\n",
              "      <th>SET50.Open</th>\n",
              "      <th>SET50.High</th>\n",
              "      <th>SET50.Low</th>\n",
              "      <th>SET50.Close</th>\n",
              "      <th>SMA(5)</th>\n",
              "      <th>SMA(12)</th>\n",
              "      <th>SMA(26)</th>\n",
              "      <th>MACD</th>\n",
              "      <th>MACD(10)</th>\n",
              "      <th>RSI</th>\n",
              "      <th>Money</th>\n",
              "      <th>Money(5)</th>\n",
              "    </tr>\n",
              "  </thead>\n",
              "  <tbody>\n",
              "    <tr>\n",
              "      <th>0</th>\n",
              "      <td>13/03/19 14:26:00</td>\n",
              "      <td>1081.38</td>\n",
              "      <td>1081.38</td>\n",
              "      <td>1081.38</td>\n",
              "      <td>1081.38</td>\n",
              "      <td>NaN</td>\n",
              "      <td>NaN</td>\n",
              "      <td>NaN</td>\n",
              "      <td>NaN</td>\n",
              "      <td>NaN</td>\n",
              "      <td>NaN</td>\n",
              "      <td>8324463.24</td>\n",
              "      <td>NaN</td>\n",
              "    </tr>\n",
              "    <tr>\n",
              "      <th>1</th>\n",
              "      <td>13/03/19 14:27:00</td>\n",
              "      <td>1080.28</td>\n",
              "      <td>1080.28</td>\n",
              "      <td>1079.86</td>\n",
              "      <td>1079.86</td>\n",
              "      <td>NaN</td>\n",
              "      <td>NaN</td>\n",
              "      <td>NaN</td>\n",
              "      <td>NaN</td>\n",
              "      <td>NaN</td>\n",
              "      <td>NaN</td>\n",
              "      <td>882245.62</td>\n",
              "      <td>NaN</td>\n",
              "    </tr>\n",
              "    <tr>\n",
              "      <th>2</th>\n",
              "      <td>13/03/19 14:28:00</td>\n",
              "      <td>1079.77</td>\n",
              "      <td>1081.50</td>\n",
              "      <td>1079.72</td>\n",
              "      <td>1081.50</td>\n",
              "      <td>NaN</td>\n",
              "      <td>NaN</td>\n",
              "      <td>NaN</td>\n",
              "      <td>NaN</td>\n",
              "      <td>NaN</td>\n",
              "      <td>NaN</td>\n",
              "      <td>3174202.50</td>\n",
              "      <td>NaN</td>\n",
              "    </tr>\n",
              "    <tr>\n",
              "      <th>3</th>\n",
              "      <td>13/03/19 14:29:00</td>\n",
              "      <td>1081.54</td>\n",
              "      <td>1081.54</td>\n",
              "      <td>1081.32</td>\n",
              "      <td>1081.32</td>\n",
              "      <td>NaN</td>\n",
              "      <td>NaN</td>\n",
              "      <td>NaN</td>\n",
              "      <td>NaN</td>\n",
              "      <td>NaN</td>\n",
              "      <td>NaN</td>\n",
              "      <td>101644.08</td>\n",
              "      <td>NaN</td>\n",
              "    </tr>\n",
              "    <tr>\n",
              "      <th>4</th>\n",
              "      <td>13/03/19 14:30:00</td>\n",
              "      <td>1081.38</td>\n",
              "      <td>1081.38</td>\n",
              "      <td>1081.37</td>\n",
              "      <td>1081.37</td>\n",
              "      <td>1081.086</td>\n",
              "      <td>NaN</td>\n",
              "      <td>NaN</td>\n",
              "      <td>NaN</td>\n",
              "      <td>NaN</td>\n",
              "      <td>NaN</td>\n",
              "      <td>2054603.00</td>\n",
              "      <td>2907431.688</td>\n",
              "    </tr>\n",
              "    <tr>\n",
              "      <th>5</th>\n",
              "      <td>13/03/19 14:31:00</td>\n",
              "      <td>1081.29</td>\n",
              "      <td>1081.70</td>\n",
              "      <td>1081.29</td>\n",
              "      <td>1081.66</td>\n",
              "      <td>1081.142</td>\n",
              "      <td>NaN</td>\n",
              "      <td>NaN</td>\n",
              "      <td>NaN</td>\n",
              "      <td>NaN</td>\n",
              "      <td>NaN</td>\n",
              "      <td>760406.98</td>\n",
              "      <td>1394620.436</td>\n",
              "    </tr>\n",
              "    <tr>\n",
              "      <th>6</th>\n",
              "      <td>13/03/19 14:32:00</td>\n",
              "      <td>1081.93</td>\n",
              "      <td>1081.93</td>\n",
              "      <td>1081.42</td>\n",
              "      <td>1081.42</td>\n",
              "      <td>1081.454</td>\n",
              "      <td>NaN</td>\n",
              "      <td>NaN</td>\n",
              "      <td>NaN</td>\n",
              "      <td>NaN</td>\n",
              "      <td>NaN</td>\n",
              "      <td>3602210.02</td>\n",
              "      <td>1938613.316</td>\n",
              "    </tr>\n",
              "  </tbody>\n",
              "</table>\n",
              "</div>"
            ],
            "text/plain": [
              "           Timestamp  SET50.Open  SET50.High  SET50.Low  SET50.Close  \\\n",
              "0  13/03/19 14:26:00     1081.38     1081.38    1081.38      1081.38   \n",
              "1  13/03/19 14:27:00     1080.28     1080.28    1079.86      1079.86   \n",
              "2  13/03/19 14:28:00     1079.77     1081.50    1079.72      1081.50   \n",
              "3  13/03/19 14:29:00     1081.54     1081.54    1081.32      1081.32   \n",
              "4  13/03/19 14:30:00     1081.38     1081.38    1081.37      1081.37   \n",
              "5  13/03/19 14:31:00     1081.29     1081.70    1081.29      1081.66   \n",
              "6  13/03/19 14:32:00     1081.93     1081.93    1081.42      1081.42   \n",
              "\n",
              "     SMA(5)  SMA(12)  SMA(26)  MACD  MACD(10)  RSI       Money     Money(5)  \n",
              "0       NaN      NaN      NaN   NaN       NaN  NaN  8324463.24          NaN  \n",
              "1       NaN      NaN      NaN   NaN       NaN  NaN   882245.62          NaN  \n",
              "2       NaN      NaN      NaN   NaN       NaN  NaN  3174202.50          NaN  \n",
              "3       NaN      NaN      NaN   NaN       NaN  NaN   101644.08          NaN  \n",
              "4  1081.086      NaN      NaN   NaN       NaN  NaN  2054603.00  2907431.688  \n",
              "5  1081.142      NaN      NaN   NaN       NaN  NaN   760406.98  1394620.436  \n",
              "6  1081.454      NaN      NaN   NaN       NaN  NaN  3602210.02  1938613.316  "
            ]
          },
          "metadata": {
            "tags": []
          },
          "execution_count": 213
        }
      ]
    },
    {
      "cell_type": "markdown",
      "metadata": {
        "id": "bM8MNfZPOxh8",
        "colab_type": "text"
      },
      "source": [
        "### Check for Null value and preprocessing data"
      ]
    },
    {
      "cell_type": "code",
      "metadata": {
        "id": "a6lCBx5aOqSh",
        "colab_type": "code",
        "colab": {}
      },
      "source": [
        "for feature in used_features:\n",
        "    if dtn[feature].isnull().values.any():\n",
        "        print (feature)"
      ],
      "execution_count": 216,
      "outputs": []
    },
    {
      "cell_type": "code",
      "metadata": {
        "id": "7AxbKrP0O1rK",
        "colab_type": "code",
        "colab": {}
      },
      "source": [
        "for feature in ['SET50.Open','SET50.Close','SET50.High','SET50.Low','SMA(5)','SMA(12)','SMA(26)','MACD','MACD(10)','RSI','Money','Money(5)']:\n",
        "    dtn[feature].fillna(dtn[feature].median(),inplace = True)"
      ],
      "execution_count": 217,
      "outputs": []
    },
    {
      "cell_type": "code",
      "metadata": {
        "id": "V-jGSpTnP3h8",
        "colab_type": "code",
        "colab": {
          "base_uri": "https://localhost:8080/",
          "height": 979
        },
        "outputId": "0cf0c9dd-ac27-4059-cbec-f2c6a83ed91b"
      },
      "source": [
        "dtn.head(30)\n"
      ],
      "execution_count": 218,
      "outputs": [
        {
          "output_type": "execute_result",
          "data": {
            "text/html": [
              "<div>\n",
              "<style scoped>\n",
              "    .dataframe tbody tr th:only-of-type {\n",
              "        vertical-align: middle;\n",
              "    }\n",
              "\n",
              "    .dataframe tbody tr th {\n",
              "        vertical-align: top;\n",
              "    }\n",
              "\n",
              "    .dataframe thead th {\n",
              "        text-align: right;\n",
              "    }\n",
              "</style>\n",
              "<table border=\"1\" class=\"dataframe\">\n",
              "  <thead>\n",
              "    <tr style=\"text-align: right;\">\n",
              "      <th></th>\n",
              "      <th>Timestamp</th>\n",
              "      <th>SET50.Open</th>\n",
              "      <th>SET50.High</th>\n",
              "      <th>SET50.Low</th>\n",
              "      <th>SET50.Close</th>\n",
              "      <th>SMA(5)</th>\n",
              "      <th>SMA(12)</th>\n",
              "      <th>SMA(26)</th>\n",
              "      <th>MACD</th>\n",
              "      <th>MACD(10)</th>\n",
              "      <th>RSI</th>\n",
              "      <th>Money</th>\n",
              "      <th>Money(5)</th>\n",
              "    </tr>\n",
              "  </thead>\n",
              "  <tbody>\n",
              "    <tr>\n",
              "      <th>0</th>\n",
              "      <td>13/03/19 14:26:00</td>\n",
              "      <td>1081.38</td>\n",
              "      <td>1081.38</td>\n",
              "      <td>1081.38</td>\n",
              "      <td>1081.38</td>\n",
              "      <td>1046.945</td>\n",
              "      <td>1046.960833</td>\n",
              "      <td>1046.971154</td>\n",
              "      <td>-0.017384</td>\n",
              "      <td>-0.017957</td>\n",
              "      <td>49.783784</td>\n",
              "      <td>8324463.24</td>\n",
              "      <td>3703497.300</td>\n",
              "    </tr>\n",
              "    <tr>\n",
              "      <th>1</th>\n",
              "      <td>13/03/19 14:27:00</td>\n",
              "      <td>1080.28</td>\n",
              "      <td>1080.28</td>\n",
              "      <td>1079.86</td>\n",
              "      <td>1079.86</td>\n",
              "      <td>1046.945</td>\n",
              "      <td>1046.960833</td>\n",
              "      <td>1046.971154</td>\n",
              "      <td>-0.017384</td>\n",
              "      <td>-0.017957</td>\n",
              "      <td>49.783784</td>\n",
              "      <td>882245.62</td>\n",
              "      <td>3703497.300</td>\n",
              "    </tr>\n",
              "    <tr>\n",
              "      <th>2</th>\n",
              "      <td>13/03/19 14:28:00</td>\n",
              "      <td>1079.77</td>\n",
              "      <td>1081.50</td>\n",
              "      <td>1079.72</td>\n",
              "      <td>1081.50</td>\n",
              "      <td>1046.945</td>\n",
              "      <td>1046.960833</td>\n",
              "      <td>1046.971154</td>\n",
              "      <td>-0.017384</td>\n",
              "      <td>-0.017957</td>\n",
              "      <td>49.783784</td>\n",
              "      <td>3174202.50</td>\n",
              "      <td>3703497.300</td>\n",
              "    </tr>\n",
              "    <tr>\n",
              "      <th>3</th>\n",
              "      <td>13/03/19 14:29:00</td>\n",
              "      <td>1081.54</td>\n",
              "      <td>1081.54</td>\n",
              "      <td>1081.32</td>\n",
              "      <td>1081.32</td>\n",
              "      <td>1046.945</td>\n",
              "      <td>1046.960833</td>\n",
              "      <td>1046.971154</td>\n",
              "      <td>-0.017384</td>\n",
              "      <td>-0.017957</td>\n",
              "      <td>49.783784</td>\n",
              "      <td>101644.08</td>\n",
              "      <td>3703497.300</td>\n",
              "    </tr>\n",
              "    <tr>\n",
              "      <th>4</th>\n",
              "      <td>13/03/19 14:30:00</td>\n",
              "      <td>1081.38</td>\n",
              "      <td>1081.38</td>\n",
              "      <td>1081.37</td>\n",
              "      <td>1081.37</td>\n",
              "      <td>1081.086</td>\n",
              "      <td>1046.960833</td>\n",
              "      <td>1046.971154</td>\n",
              "      <td>-0.017384</td>\n",
              "      <td>-0.017957</td>\n",
              "      <td>49.783784</td>\n",
              "      <td>2054603.00</td>\n",
              "      <td>2907431.688</td>\n",
              "    </tr>\n",
              "    <tr>\n",
              "      <th>5</th>\n",
              "      <td>13/03/19 14:31:00</td>\n",
              "      <td>1081.29</td>\n",
              "      <td>1081.70</td>\n",
              "      <td>1081.29</td>\n",
              "      <td>1081.66</td>\n",
              "      <td>1081.142</td>\n",
              "      <td>1046.960833</td>\n",
              "      <td>1046.971154</td>\n",
              "      <td>-0.017384</td>\n",
              "      <td>-0.017957</td>\n",
              "      <td>49.783784</td>\n",
              "      <td>760406.98</td>\n",
              "      <td>1394620.436</td>\n",
              "    </tr>\n",
              "    <tr>\n",
              "      <th>6</th>\n",
              "      <td>13/03/19 14:32:00</td>\n",
              "      <td>1081.93</td>\n",
              "      <td>1081.93</td>\n",
              "      <td>1081.42</td>\n",
              "      <td>1081.42</td>\n",
              "      <td>1081.454</td>\n",
              "      <td>1046.960833</td>\n",
              "      <td>1046.971154</td>\n",
              "      <td>-0.017384</td>\n",
              "      <td>-0.017957</td>\n",
              "      <td>49.783784</td>\n",
              "      <td>3602210.02</td>\n",
              "      <td>1938613.316</td>\n",
              "    </tr>\n",
              "    <tr>\n",
              "      <th>7</th>\n",
              "      <td>13/03/19 14:33:00</td>\n",
              "      <td>1081.65</td>\n",
              "      <td>1081.65</td>\n",
              "      <td>1080.90</td>\n",
              "      <td>1080.90</td>\n",
              "      <td>1081.334</td>\n",
              "      <td>1046.960833</td>\n",
              "      <td>1046.971154</td>\n",
              "      <td>-0.017384</td>\n",
              "      <td>-0.017957</td>\n",
              "      <td>49.783784</td>\n",
              "      <td>6779404.80</td>\n",
              "      <td>2659653.776</td>\n",
              "    </tr>\n",
              "    <tr>\n",
              "      <th>8</th>\n",
              "      <td>13/03/19 14:34:00</td>\n",
              "      <td>1081.05</td>\n",
              "      <td>1081.27</td>\n",
              "      <td>1080.82</td>\n",
              "      <td>1081.01</td>\n",
              "      <td>1081.272</td>\n",
              "      <td>1046.960833</td>\n",
              "      <td>1046.971154</td>\n",
              "      <td>-0.017384</td>\n",
              "      <td>-0.017957</td>\n",
              "      <td>49.783784</td>\n",
              "      <td>2077701.22</td>\n",
              "      <td>3054865.204</td>\n",
              "    </tr>\n",
              "    <tr>\n",
              "      <th>9</th>\n",
              "      <td>13/03/19 14:35:00</td>\n",
              "      <td>1080.82</td>\n",
              "      <td>1081.70</td>\n",
              "      <td>1080.82</td>\n",
              "      <td>1081.24</td>\n",
              "      <td>1081.246</td>\n",
              "      <td>1046.960833</td>\n",
              "      <td>1046.971154</td>\n",
              "      <td>-0.017384</td>\n",
              "      <td>-0.017957</td>\n",
              "      <td>49.783784</td>\n",
              "      <td>660637.64</td>\n",
              "      <td>2776072.132</td>\n",
              "    </tr>\n",
              "    <tr>\n",
              "      <th>10</th>\n",
              "      <td>13/03/19 14:36:00</td>\n",
              "      <td>1081.37</td>\n",
              "      <td>1081.37</td>\n",
              "      <td>1081.15</td>\n",
              "      <td>1081.15</td>\n",
              "      <td>1081.144</td>\n",
              "      <td>1046.960833</td>\n",
              "      <td>1046.971154</td>\n",
              "      <td>-0.017384</td>\n",
              "      <td>-0.017957</td>\n",
              "      <td>49.783784</td>\n",
              "      <td>9078416.55</td>\n",
              "      <td>4439674.046</td>\n",
              "    </tr>\n",
              "    <tr>\n",
              "      <th>11</th>\n",
              "      <td>13/03/19 14:37:00</td>\n",
              "      <td>1081.90</td>\n",
              "      <td>1082.67</td>\n",
              "      <td>1081.90</td>\n",
              "      <td>1082.67</td>\n",
              "      <td>1081.394</td>\n",
              "      <td>1081.290000</td>\n",
              "      <td>1046.971154</td>\n",
              "      <td>-0.017384</td>\n",
              "      <td>-0.017957</td>\n",
              "      <td>49.783784</td>\n",
              "      <td>6779679.54</td>\n",
              "      <td>5075167.950</td>\n",
              "    </tr>\n",
              "    <tr>\n",
              "      <th>12</th>\n",
              "      <td>13/03/19 14:38:00</td>\n",
              "      <td>1082.43</td>\n",
              "      <td>1082.67</td>\n",
              "      <td>1082.43</td>\n",
              "      <td>1082.43</td>\n",
              "      <td>1081.700</td>\n",
              "      <td>1081.377500</td>\n",
              "      <td>1046.971154</td>\n",
              "      <td>-0.017384</td>\n",
              "      <td>-0.017957</td>\n",
              "      <td>49.783784</td>\n",
              "      <td>1802245.95</td>\n",
              "      <td>4079736.180</td>\n",
              "    </tr>\n",
              "    <tr>\n",
              "      <th>13</th>\n",
              "      <td>13/03/19 14:39:00</td>\n",
              "      <td>1082.06</td>\n",
              "      <td>1083.11</td>\n",
              "      <td>1082.06</td>\n",
              "      <td>1082.40</td>\n",
              "      <td>1081.978</td>\n",
              "      <td>1081.589167</td>\n",
              "      <td>1046.971154</td>\n",
              "      <td>-0.017384</td>\n",
              "      <td>-0.017957</td>\n",
              "      <td>49.783784</td>\n",
              "      <td>1556491.20</td>\n",
              "      <td>3975494.176</td>\n",
              "    </tr>\n",
              "    <tr>\n",
              "      <th>14</th>\n",
              "      <td>13/03/19 14:40:00</td>\n",
              "      <td>1081.89</td>\n",
              "      <td>1081.89</td>\n",
              "      <td>1081.49</td>\n",
              "      <td>1081.49</td>\n",
              "      <td>1082.028</td>\n",
              "      <td>1081.588333</td>\n",
              "      <td>1046.971154</td>\n",
              "      <td>-0.017384</td>\n",
              "      <td>-0.017957</td>\n",
              "      <td>50.726552</td>\n",
              "      <td>7672090.06</td>\n",
              "      <td>5377784.660</td>\n",
              "    </tr>\n",
              "    <tr>\n",
              "      <th>15</th>\n",
              "      <td>13/03/19 14:41:00</td>\n",
              "      <td>1081.73</td>\n",
              "      <td>1081.88</td>\n",
              "      <td>1081.43</td>\n",
              "      <td>1081.88</td>\n",
              "      <td>1082.174</td>\n",
              "      <td>1081.635000</td>\n",
              "      <td>1046.971154</td>\n",
              "      <td>-0.017384</td>\n",
              "      <td>-0.017957</td>\n",
              "      <td>65.683230</td>\n",
              "      <td>454389.60</td>\n",
              "      <td>3652979.270</td>\n",
              "    </tr>\n",
              "    <tr>\n",
              "      <th>16</th>\n",
              "      <td>13/03/19 14:42:00</td>\n",
              "      <td>1081.27</td>\n",
              "      <td>1081.53</td>\n",
              "      <td>1081.19</td>\n",
              "      <td>1081.53</td>\n",
              "      <td>1081.946</td>\n",
              "      <td>1081.648333</td>\n",
              "      <td>1046.971154</td>\n",
              "      <td>-0.017384</td>\n",
              "      <td>-0.017957</td>\n",
              "      <td>50.291262</td>\n",
              "      <td>1842927.12</td>\n",
              "      <td>2665628.786</td>\n",
              "    </tr>\n",
              "    <tr>\n",
              "      <th>17</th>\n",
              "      <td>13/03/19 14:43:00</td>\n",
              "      <td>1081.45</td>\n",
              "      <td>1082.02</td>\n",
              "      <td>1081.18</td>\n",
              "      <td>1081.18</td>\n",
              "      <td>1081.696</td>\n",
              "      <td>1081.608333</td>\n",
              "      <td>1046.971154</td>\n",
              "      <td>-0.017384</td>\n",
              "      <td>-0.017957</td>\n",
              "      <td>48.684211</td>\n",
              "      <td>800073.20</td>\n",
              "      <td>2465194.236</td>\n",
              "    </tr>\n",
              "    <tr>\n",
              "      <th>18</th>\n",
              "      <td>13/03/19 14:44:00</td>\n",
              "      <td>1081.26</td>\n",
              "      <td>1081.26</td>\n",
              "      <td>1080.06</td>\n",
              "      <td>1080.38</td>\n",
              "      <td>1081.292</td>\n",
              "      <td>1081.521667</td>\n",
              "      <td>1046.971154</td>\n",
              "      <td>-0.017384</td>\n",
              "      <td>-0.017957</td>\n",
              "      <td>41.845140</td>\n",
              "      <td>2979688.04</td>\n",
              "      <td>2749833.604</td>\n",
              "    </tr>\n",
              "    <tr>\n",
              "      <th>19</th>\n",
              "      <td>13/03/19 14:45:00</td>\n",
              "      <td>1081.43</td>\n",
              "      <td>1081.43</td>\n",
              "      <td>1080.90</td>\n",
              "      <td>1080.90</td>\n",
              "      <td>1081.174</td>\n",
              "      <td>1081.521667</td>\n",
              "      <td>1046.971154</td>\n",
              "      <td>-0.017384</td>\n",
              "      <td>-0.017957</td>\n",
              "      <td>43.968254</td>\n",
              "      <td>777167.10</td>\n",
              "      <td>1370849.012</td>\n",
              "    </tr>\n",
              "    <tr>\n",
              "      <th>20</th>\n",
              "      <td>13/03/19 14:46:00</td>\n",
              "      <td>1081.55</td>\n",
              "      <td>1082.45</td>\n",
              "      <td>1081.55</td>\n",
              "      <td>1082.00</td>\n",
              "      <td>1081.198</td>\n",
              "      <td>1081.604167</td>\n",
              "      <td>1046.971154</td>\n",
              "      <td>-0.017384</td>\n",
              "      <td>-0.017957</td>\n",
              "      <td>54.050279</td>\n",
              "      <td>1551588.00</td>\n",
              "      <td>1590288.692</td>\n",
              "    </tr>\n",
              "    <tr>\n",
              "      <th>21</th>\n",
              "      <td>13/03/19 14:47:00</td>\n",
              "      <td>1081.83</td>\n",
              "      <td>1081.83</td>\n",
              "      <td>1081.33</td>\n",
              "      <td>1081.33</td>\n",
              "      <td>1081.158</td>\n",
              "      <td>1081.611667</td>\n",
              "      <td>1046.971154</td>\n",
              "      <td>-0.017384</td>\n",
              "      <td>-0.017957</td>\n",
              "      <td>52.941176</td>\n",
              "      <td>683400.56</td>\n",
              "      <td>1358383.380</td>\n",
              "    </tr>\n",
              "    <tr>\n",
              "      <th>22</th>\n",
              "      <td>13/03/19 14:48:00</td>\n",
              "      <td>1081.60</td>\n",
              "      <td>1081.60</td>\n",
              "      <td>1081.13</td>\n",
              "      <td>1081.22</td>\n",
              "      <td>1081.166</td>\n",
              "      <td>1081.617500</td>\n",
              "      <td>1046.971154</td>\n",
              "      <td>-0.017384</td>\n",
              "      <td>-0.017957</td>\n",
              "      <td>51.436389</td>\n",
              "      <td>345990.40</td>\n",
              "      <td>1267566.820</td>\n",
              "    </tr>\n",
              "    <tr>\n",
              "      <th>23</th>\n",
              "      <td>13/03/19 14:49:00</td>\n",
              "      <td>1081.36</td>\n",
              "      <td>1081.46</td>\n",
              "      <td>1080.58</td>\n",
              "      <td>1081.46</td>\n",
              "      <td>1081.382</td>\n",
              "      <td>1081.516667</td>\n",
              "      <td>1046.971154</td>\n",
              "      <td>-0.017384</td>\n",
              "      <td>-0.017957</td>\n",
              "      <td>51.502732</td>\n",
              "      <td>579662.56</td>\n",
              "      <td>787561.724</td>\n",
              "    </tr>\n",
              "    <tr>\n",
              "      <th>24</th>\n",
              "      <td>13/03/19 14:50:00</td>\n",
              "      <td>1081.89</td>\n",
              "      <td>1081.89</td>\n",
              "      <td>1081.01</td>\n",
              "      <td>1081.84</td>\n",
              "      <td>1081.570</td>\n",
              "      <td>1081.467500</td>\n",
              "      <td>1046.971154</td>\n",
              "      <td>-0.017384</td>\n",
              "      <td>-0.017957</td>\n",
              "      <td>54.533509</td>\n",
              "      <td>615566.96</td>\n",
              "      <td>755241.696</td>\n",
              "    </tr>\n",
              "    <tr>\n",
              "      <th>25</th>\n",
              "      <td>13/03/19 14:51:00</td>\n",
              "      <td>1081.46</td>\n",
              "      <td>1082.37</td>\n",
              "      <td>1081.46</td>\n",
              "      <td>1082.37</td>\n",
              "      <td>1081.644</td>\n",
              "      <td>1081.465000</td>\n",
              "      <td>1081.457308</td>\n",
              "      <td>0.136413</td>\n",
              "      <td>-0.017957</td>\n",
              "      <td>47.734139</td>\n",
              "      <td>1784828.13</td>\n",
              "      <td>801889.722</td>\n",
              "    </tr>\n",
              "    <tr>\n",
              "      <th>26</th>\n",
              "      <td>13/03/19 14:52:00</td>\n",
              "      <td>1082.35</td>\n",
              "      <td>1082.50</td>\n",
              "      <td>1082.35</td>\n",
              "      <td>1082.41</td>\n",
              "      <td>1081.860</td>\n",
              "      <td>1081.541667</td>\n",
              "      <td>1081.496923</td>\n",
              "      <td>0.191425</td>\n",
              "      <td>-0.017957</td>\n",
              "      <td>49.844237</td>\n",
              "      <td>22660253.35</td>\n",
              "      <td>5197260.280</td>\n",
              "    </tr>\n",
              "    <tr>\n",
              "      <th>27</th>\n",
              "      <td>13/03/19 14:53:00</td>\n",
              "      <td>1082.12</td>\n",
              "      <td>1083.12</td>\n",
              "      <td>1082.12</td>\n",
              "      <td>1082.60</td>\n",
              "      <td>1082.136</td>\n",
              "      <td>1081.601667</td>\n",
              "      <td>1081.602308</td>\n",
              "      <td>0.247500</td>\n",
              "      <td>-0.017957</td>\n",
              "      <td>51.519757</td>\n",
              "      <td>17669114.60</td>\n",
              "      <td>8661885.120</td>\n",
              "    </tr>\n",
              "    <tr>\n",
              "      <th>28</th>\n",
              "      <td>13/03/19 14:54:00</td>\n",
              "      <td>1082.68</td>\n",
              "      <td>1082.68</td>\n",
              "      <td>1081.72</td>\n",
              "      <td>1082.47</td>\n",
              "      <td>1082.338</td>\n",
              "      <td>1081.680000</td>\n",
              "      <td>1081.639615</td>\n",
              "      <td>0.278243</td>\n",
              "      <td>-0.017957</td>\n",
              "      <td>58.448276</td>\n",
              "      <td>2686690.54</td>\n",
              "      <td>9083290.716</td>\n",
              "    </tr>\n",
              "    <tr>\n",
              "      <th>29</th>\n",
              "      <td>13/03/19 14:55:00</td>\n",
              "      <td>1082.27</td>\n",
              "      <td>1082.40</td>\n",
              "      <td>1082.23</td>\n",
              "      <td>1082.40</td>\n",
              "      <td>1082.450</td>\n",
              "      <td>1081.781667</td>\n",
              "      <td>1081.681154</td>\n",
              "      <td>0.293575</td>\n",
              "      <td>-0.017957</td>\n",
              "      <td>54.744526</td>\n",
              "      <td>1210123.20</td>\n",
              "      <td>9202201.964</td>\n",
              "    </tr>\n",
              "  </tbody>\n",
              "</table>\n",
              "</div>"
            ],
            "text/plain": [
              "            Timestamp  SET50.Open  SET50.High  SET50.Low  SET50.Close  \\\n",
              "0   13/03/19 14:26:00     1081.38     1081.38    1081.38      1081.38   \n",
              "1   13/03/19 14:27:00     1080.28     1080.28    1079.86      1079.86   \n",
              "2   13/03/19 14:28:00     1079.77     1081.50    1079.72      1081.50   \n",
              "3   13/03/19 14:29:00     1081.54     1081.54    1081.32      1081.32   \n",
              "4   13/03/19 14:30:00     1081.38     1081.38    1081.37      1081.37   \n",
              "5   13/03/19 14:31:00     1081.29     1081.70    1081.29      1081.66   \n",
              "6   13/03/19 14:32:00     1081.93     1081.93    1081.42      1081.42   \n",
              "7   13/03/19 14:33:00     1081.65     1081.65    1080.90      1080.90   \n",
              "8   13/03/19 14:34:00     1081.05     1081.27    1080.82      1081.01   \n",
              "9   13/03/19 14:35:00     1080.82     1081.70    1080.82      1081.24   \n",
              "10  13/03/19 14:36:00     1081.37     1081.37    1081.15      1081.15   \n",
              "11  13/03/19 14:37:00     1081.90     1082.67    1081.90      1082.67   \n",
              "12  13/03/19 14:38:00     1082.43     1082.67    1082.43      1082.43   \n",
              "13  13/03/19 14:39:00     1082.06     1083.11    1082.06      1082.40   \n",
              "14  13/03/19 14:40:00     1081.89     1081.89    1081.49      1081.49   \n",
              "15  13/03/19 14:41:00     1081.73     1081.88    1081.43      1081.88   \n",
              "16  13/03/19 14:42:00     1081.27     1081.53    1081.19      1081.53   \n",
              "17  13/03/19 14:43:00     1081.45     1082.02    1081.18      1081.18   \n",
              "18  13/03/19 14:44:00     1081.26     1081.26    1080.06      1080.38   \n",
              "19  13/03/19 14:45:00     1081.43     1081.43    1080.90      1080.90   \n",
              "20  13/03/19 14:46:00     1081.55     1082.45    1081.55      1082.00   \n",
              "21  13/03/19 14:47:00     1081.83     1081.83    1081.33      1081.33   \n",
              "22  13/03/19 14:48:00     1081.60     1081.60    1081.13      1081.22   \n",
              "23  13/03/19 14:49:00     1081.36     1081.46    1080.58      1081.46   \n",
              "24  13/03/19 14:50:00     1081.89     1081.89    1081.01      1081.84   \n",
              "25  13/03/19 14:51:00     1081.46     1082.37    1081.46      1082.37   \n",
              "26  13/03/19 14:52:00     1082.35     1082.50    1082.35      1082.41   \n",
              "27  13/03/19 14:53:00     1082.12     1083.12    1082.12      1082.60   \n",
              "28  13/03/19 14:54:00     1082.68     1082.68    1081.72      1082.47   \n",
              "29  13/03/19 14:55:00     1082.27     1082.40    1082.23      1082.40   \n",
              "\n",
              "      SMA(5)      SMA(12)      SMA(26)      MACD  MACD(10)        RSI  \\\n",
              "0   1046.945  1046.960833  1046.971154 -0.017384 -0.017957  49.783784   \n",
              "1   1046.945  1046.960833  1046.971154 -0.017384 -0.017957  49.783784   \n",
              "2   1046.945  1046.960833  1046.971154 -0.017384 -0.017957  49.783784   \n",
              "3   1046.945  1046.960833  1046.971154 -0.017384 -0.017957  49.783784   \n",
              "4   1081.086  1046.960833  1046.971154 -0.017384 -0.017957  49.783784   \n",
              "5   1081.142  1046.960833  1046.971154 -0.017384 -0.017957  49.783784   \n",
              "6   1081.454  1046.960833  1046.971154 -0.017384 -0.017957  49.783784   \n",
              "7   1081.334  1046.960833  1046.971154 -0.017384 -0.017957  49.783784   \n",
              "8   1081.272  1046.960833  1046.971154 -0.017384 -0.017957  49.783784   \n",
              "9   1081.246  1046.960833  1046.971154 -0.017384 -0.017957  49.783784   \n",
              "10  1081.144  1046.960833  1046.971154 -0.017384 -0.017957  49.783784   \n",
              "11  1081.394  1081.290000  1046.971154 -0.017384 -0.017957  49.783784   \n",
              "12  1081.700  1081.377500  1046.971154 -0.017384 -0.017957  49.783784   \n",
              "13  1081.978  1081.589167  1046.971154 -0.017384 -0.017957  49.783784   \n",
              "14  1082.028  1081.588333  1046.971154 -0.017384 -0.017957  50.726552   \n",
              "15  1082.174  1081.635000  1046.971154 -0.017384 -0.017957  65.683230   \n",
              "16  1081.946  1081.648333  1046.971154 -0.017384 -0.017957  50.291262   \n",
              "17  1081.696  1081.608333  1046.971154 -0.017384 -0.017957  48.684211   \n",
              "18  1081.292  1081.521667  1046.971154 -0.017384 -0.017957  41.845140   \n",
              "19  1081.174  1081.521667  1046.971154 -0.017384 -0.017957  43.968254   \n",
              "20  1081.198  1081.604167  1046.971154 -0.017384 -0.017957  54.050279   \n",
              "21  1081.158  1081.611667  1046.971154 -0.017384 -0.017957  52.941176   \n",
              "22  1081.166  1081.617500  1046.971154 -0.017384 -0.017957  51.436389   \n",
              "23  1081.382  1081.516667  1046.971154 -0.017384 -0.017957  51.502732   \n",
              "24  1081.570  1081.467500  1046.971154 -0.017384 -0.017957  54.533509   \n",
              "25  1081.644  1081.465000  1081.457308  0.136413 -0.017957  47.734139   \n",
              "26  1081.860  1081.541667  1081.496923  0.191425 -0.017957  49.844237   \n",
              "27  1082.136  1081.601667  1081.602308  0.247500 -0.017957  51.519757   \n",
              "28  1082.338  1081.680000  1081.639615  0.278243 -0.017957  58.448276   \n",
              "29  1082.450  1081.781667  1081.681154  0.293575 -0.017957  54.744526   \n",
              "\n",
              "          Money     Money(5)  \n",
              "0    8324463.24  3703497.300  \n",
              "1     882245.62  3703497.300  \n",
              "2    3174202.50  3703497.300  \n",
              "3     101644.08  3703497.300  \n",
              "4    2054603.00  2907431.688  \n",
              "5     760406.98  1394620.436  \n",
              "6    3602210.02  1938613.316  \n",
              "7    6779404.80  2659653.776  \n",
              "8    2077701.22  3054865.204  \n",
              "9     660637.64  2776072.132  \n",
              "10   9078416.55  4439674.046  \n",
              "11   6779679.54  5075167.950  \n",
              "12   1802245.95  4079736.180  \n",
              "13   1556491.20  3975494.176  \n",
              "14   7672090.06  5377784.660  \n",
              "15    454389.60  3652979.270  \n",
              "16   1842927.12  2665628.786  \n",
              "17    800073.20  2465194.236  \n",
              "18   2979688.04  2749833.604  \n",
              "19    777167.10  1370849.012  \n",
              "20   1551588.00  1590288.692  \n",
              "21    683400.56  1358383.380  \n",
              "22    345990.40  1267566.820  \n",
              "23    579662.56   787561.724  \n",
              "24    615566.96   755241.696  \n",
              "25   1784828.13   801889.722  \n",
              "26  22660253.35  5197260.280  \n",
              "27  17669114.60  8661885.120  \n",
              "28   2686690.54  9083290.716  \n",
              "29   1210123.20  9202201.964  "
            ]
          },
          "metadata": {
            "tags": []
          },
          "execution_count": 218
        }
      ]
    },
    {
      "cell_type": "markdown",
      "metadata": {
        "id": "194Vgov6QGV7",
        "colab_type": "text"
      },
      "source": [
        "## Condition\n",
        "    1) หากมูลค่าตามราคาตลาดมีค่ามากกว่ามูลค่าตามราคาตลาดเฉลี่ยระยะเวลา 5วัน จะเข้าเงื่อนไขในกฎข้อ 2, 3 และ 4 ต่อไป เพื่อให้ความสนใจในกรณีการแลกเปลี่ยนซื้อขายที่มีขนาดกลางไปจนถึงขนาดใหญ่ และในกรณีที่มูลค่าตามตลาดในขณะนั้น มีค่านอ้ยกว่ามูลค่าตามตลาดเฉลี่ยระยะเวลา 5 วันหรือเกิดการแลกเปลี่ยนซื้อขายขนาดเล็ก ก็จะทำาการถือหลักทรัพย์นั้นไว้และไม่ทำ การขายหรือซ้ือเพิ่มในกรณีที่มีหลักทรัพย์นั้นในการครอบครอง\n",
        "    2) หากราคาปิดของหลักทรัพย์มีค่ามากกว่าราคาปิดของหลักทรัพย์เฉลี่ยระยะเวลา 5วัน จะทำ การซ้ือหลักทรัพย์น้นัและในกรณีหากราคาปิดของหลักทรัพย์มีค่าน้อยกว่าราคาปิ ดของหลักทรัพย์เฉลี่ยระยะเวลา 5 วัน จะท าการขายหลักทรัพย์น้นั18\n",
        "    3) หากค่า MACD เป็นบวก ซึ่งมีค่า EMA(12) มากกว่า EMA(26) แสดงว่า ทิศทางแนวโน้มของราคาหลักทรัพย์ และแรงส่งของราคาหลักทรัพย์ กำลังอยู่ในช่วงขาขึ้น จะทำ การขายหลักทรัพย์นั้น และในกรณีค่า MACD เป็นลบซึ่งมีค่า EMA(12)น้อยกว่า EMA(26) แสดงว่า ทิศทางแนวโน้มของราคาหลักทรัพย์และแรงส่งของราคาหลักทรัพย์กำลังอยู่ในช่วงขาลง และใน 2 กรณีที่กล่าวมาข้างต้น โอกาสที่ค่าMACD จะเปลี่ยนจากบวกเป็นลบหรือลบเป็นบวกเกิดข้ึนไดน้อ้ยมากหรืออาจเกิดได้ช้า ซึ่งราคาของหลักทรัพย์อาจจะตกหรือข้ึนไปมากแลว้ เพื่อเพิ่มโอกาสในการทา กา ไร ผูว้ิจยัจึงไดเ้พิ่มกฏยอ่ ยเขา้ไปว่า หากค่า MACD มีค่าเป็ นบวก และค่าMACD มากกว่า MACD เฉลี่ย ระยะเวลา 10 วนั จะทา การซ้ือหลักทรัพย์น้น ใน ักรณีหากค่า MACD มีค่าเป็ นบวกและค่า MACD น้อยกว่า MACD เฉลี่ยระยะเวลา10 วัน จะท าการขายหลักทรัพย์น้นั และในกรณีหากค่า MACD มีค่าเป็ นลบ จะท าการขายหลักทรัพย์น้นั\n",
        "    4) หากค่า RSI น้อยกว่า 30 แสดงว่าหลักทรัพย์น้นัอาจมีแนวโนม้ ในการพลิกจากช่วงขาลงมาเป็ นช่วงขาข้ึนได้ และในกรณีหากค่า RSI มากกว่า 70 หลักทรัพย์น้นัอาจมีแนวโนม้ ในการพลิกจากช่วงขาข้ึนมาเป็นช่วงขาลงได้ผูว้ิจยัจึงคิดกฏว่า หากจะทาการซ้ือหลักทรัพย์น้นั ไดก้็ต่อเมอื่ ค่า RSI น้อยกว่า 70 และในกรณีจะขายหลักทรัพย์น้นั จะสามารถขายได้เมื่อค่า RSI มากกว่า 30จากเงื่อนไขที่กล่าวมาข้างต้น หากเข้าเงื่อนไขตามกฎข้อ1 คือ \n",
        "\n",
        "\n",
        "\n",
        "---\n",
        "\n",
        "    มูลค่าตามราคาตลาดมีค่ามากกว่ามูลค่าตามราคาตลาดเฉลี่ยระยะเวลา 5 วัน จะสามารถสรุปการเพิ่มค่ากลุ่มแนวโนม้ของหลักทรัพย์ได้ดังนี้\n",
        "    1) หากเงื่อนไขจากกฎข้อ 2, 3 และ 4 ท้้ง 3 ข้อ ตรงกบั เงื่อนไขการซ้ือ จะเพิ่มค่ากลุ่มแนวโน้มของหลักทรัพย์เป็นการแนะนำให้ซ้ือหลักทรัพย์น้้น ในวัดถัดไป\n",
        "    2) หากเงื่อนไขจากกฎข้อ 2, 3และ 4 ท้งั 3ขอ้ ตรงกบั เงื่อนไขการขาย จะเพิ่มค่ากลุ่มแนวโน้มของหลักทรัพย์เป็ นการแนะน าให้ขายหลักทรัพย์น้นั ในวนัถดัไป\n",
        "    3) หากเงื่อนไขจากกฎข้อ 2, 3 และ 4 ท้งั 3 ขอ้ ไม่ตรงเงื่อนไขซ้ือหรือเงื่อนไขขายท้งัหมด จะไม่กระทา การใดๆ หรือทา การถือหลักทรัพย์น้นั ไวใ้นกรณีที่มีหลักทรัพย์น้นัอยใู่ นการครอบครอง19และหากไม่เข้าเงื่อนไขตามกฎข้อ 1 คือ มูลค่าตามราคาตลาดมีค่าน้อยกว่ามูลค่าตามราคาตลาดเฉลี่ยระยะเวลา 5 วัน จะไม่กระท าการใดๆ หรือท าการถือหลักทรัพย์น้นั ไวใ้นกรณีที่มีหลักทรัพย์น้นัอยใู่ นการครอบครอง\n"
      ]
    },
    {
      "cell_type": "code",
      "metadata": {
        "id": "wbDfTKn7QF1c",
        "colab_type": "code",
        "colab": {}
      },
      "source": [
        "def sel(money,money5):\n",
        "  if money < money5:\n",
        "      result = 'Stay'\n",
        "  else:\n",
        "      if close > close5:\n",
        "         result = 'Buy'\n",
        "      else:\n",
        "          result = \"Sell\"\n",
        "      if macd>=0.0:\n",
        "          result = \"Buy\"\n",
        "      else:\n",
        "          result = \"Sell\"\n",
        "      if rsi >30 and rsi <70:\n",
        "          result = 'Buy'\n",
        "      else:\n",
        "          result = \"Sell\"\n",
        "  return result\n",
        "    "
      ],
      "execution_count": 258,
      "outputs": []
    },
    {
      "cell_type": "code",
      "metadata": {
        "id": "-vSfs-XQexih",
        "colab_type": "code",
        "colab": {}
      },
      "source": [
        "plt.plot(dtn[\"SET50.Close\"],dtn[\"SET50.Open\"])\n",
        "\n",
        "plt.title('SET50')\n",
        "plt.xlabel('X axis')\n",
        "plt.ylabel('Y axis')\n",
        "\n",
        "plt.show()\n",
        "\n"
      ],
      "execution_count": null,
      "outputs": []
    },
    {
      "cell_type": "code",
      "metadata": {
        "id": "Nflb7Jozi0wm",
        "colab_type": "code",
        "colab": {
          "base_uri": "https://localhost:8080/",
          "height": 35
        },
        "outputId": "71905089-a299-44e3-bb17-9a8a069e5013"
      },
      "source": [
        "sel(dtn[\"Money\"][2],dtn[\"Money(5)\"][2])"
      ],
      "execution_count": 261,
      "outputs": [
        {
          "output_type": "execute_result",
          "data": {
            "application/vnd.google.colaboratory.intrinsic+json": {
              "type": "string"
            },
            "text/plain": [
              "'Stay'"
            ]
          },
          "metadata": {
            "tags": []
          },
          "execution_count": 261
        }
      ]
    },
    {
      "cell_type": "markdown",
      "metadata": {
        "id": "v-bUywURmzKx",
        "colab_type": "text"
      },
      "source": [
        "# Train"
      ]
    },
    {
      "cell_type": "code",
      "metadata": {
        "id": "rHsDrZ1QnJ7U",
        "colab_type": "code",
        "colab": {
          "base_uri": "https://localhost:8080/",
          "height": 231
        },
        "outputId": "5f90546e-7194-46a4-f6c0-ebd4a1041828"
      },
      "source": [
        "def encode_mysignal(signal, predict=\"up\"):\n",
        "  if predict==\"up\":    \n",
        "    signal[signal < 4] = 0 \n",
        "    signal[signal == 4] = 1 # สนใจราคาขึ้นมากสุด 4 วันติดกัน\n",
        "\n",
        "  elif predict==\"down\":\n",
        "    signal[signal > 0] = 1     \n",
        "    signal[signal==0] = 0 # สนใจราคาลงมากสุด 4 วันติดกัน\n",
        "\n",
        "  return signal\n",
        "\n",
        "signal = my_signal(dtn['SET50.Close'])\n",
        "\n",
        "# ปรับตำแหน่งแถวของ ข้อมูล กับ signal ให้สอดคล้องกัน\n",
        "signal = signal.shift(-2) # shift ขึ้นไปสองแถว\n",
        "signal = signal.fillna(0) # ยังมี NaN อยู่แถวแรก แก้ให้เป็น 0\n",
        "signal = signal[:-2] # cut tail that is NaN\n",
        "\n",
        "signal = encode_mysignal(signal, predict=\"up\")\n",
        "\n",
        "df_new = dtn[:-2] # ตัดให้เหลือแถวเท่ากับ signal\n",
        "\n",
        "assert len(df_new) == len(data[stock_name]) - 2\n",
        "assert len(signal) == len(data[stock_name]) - 2\n",
        "assert len(df_new) == len(signal)\n",
        "\n",
        "\n",
        "print(np.shape(df_new))\n",
        "print(np.shape(signal))"
      ],
      "execution_count": 266,
      "outputs": [
        {
          "output_type": "error",
          "ename": "NameError",
          "evalue": "ignored",
          "traceback": [
            "\u001b[0;31m---------------------------------------------------------------------------\u001b[0m",
            "\u001b[0;31mNameError\u001b[0m                                 Traceback (most recent call last)",
            "\u001b[0;32m<ipython-input-266-01f7ca0cf6da>\u001b[0m in \u001b[0;36m<module>\u001b[0;34m()\u001b[0m\n\u001b[1;32m     10\u001b[0m   \u001b[0;32mreturn\u001b[0m \u001b[0msignal\u001b[0m\u001b[0;34m\u001b[0m\u001b[0;34m\u001b[0m\u001b[0m\n\u001b[1;32m     11\u001b[0m \u001b[0;34m\u001b[0m\u001b[0m\n\u001b[0;32m---> 12\u001b[0;31m \u001b[0msignal\u001b[0m \u001b[0;34m=\u001b[0m \u001b[0mmy_signal\u001b[0m\u001b[0;34m(\u001b[0m\u001b[0mdtn\u001b[0m\u001b[0;34m[\u001b[0m\u001b[0;34m'SET50.Close'\u001b[0m\u001b[0;34m]\u001b[0m\u001b[0;34m)\u001b[0m\u001b[0;34m\u001b[0m\u001b[0;34m\u001b[0m\u001b[0m\n\u001b[0m\u001b[1;32m     13\u001b[0m \u001b[0;34m\u001b[0m\u001b[0m\n\u001b[1;32m     14\u001b[0m \u001b[0;31m# ปรับตำแหน่งแถวของ ข้อมูล กับ signal ให้สอดคล้องกัน\u001b[0m\u001b[0;34m\u001b[0m\u001b[0;34m\u001b[0m\u001b[0;34m\u001b[0m\u001b[0m\n",
            "\u001b[0;31mNameError\u001b[0m: name 'my_signal' is not defined"
          ]
        }
      ]
    },
    {
      "cell_type": "code",
      "metadata": {
        "id": "zvDhv32Am4iK",
        "colab_type": "code",
        "colab": {
          "base_uri": "https://localhost:8080/",
          "height": 374
        },
        "outputId": "36647ee7-c96c-41ff-94a6-f3ad8426bb40"
      },
      "source": [
        "from sklearn.preprocessing import MinMaxScaler\n",
        "sc = MinMaxScaler(feature_range = (0, 1))\n",
        "df_scaled = sc.fit_transform(dtn)\n",
        "\n",
        "assert np.shape(df_scaled)  == np.shape(dtn)\n",
        "\n",
        "labels = signal.to_numpy()\n",
        "assert len(df_scaled) == len(labels)"
      ],
      "execution_count": 263,
      "outputs": [
        {
          "output_type": "error",
          "ename": "ValueError",
          "evalue": "ignored",
          "traceback": [
            "\u001b[0;31m---------------------------------------------------------------------------\u001b[0m",
            "\u001b[0;31mValueError\u001b[0m                                Traceback (most recent call last)",
            "\u001b[0;32m<ipython-input-263-354152f623e2>\u001b[0m in \u001b[0;36m<module>\u001b[0;34m()\u001b[0m\n\u001b[1;32m      1\u001b[0m \u001b[0;32mfrom\u001b[0m \u001b[0msklearn\u001b[0m\u001b[0;34m.\u001b[0m\u001b[0mpreprocessing\u001b[0m \u001b[0;32mimport\u001b[0m \u001b[0mMinMaxScaler\u001b[0m\u001b[0;34m\u001b[0m\u001b[0;34m\u001b[0m\u001b[0m\n\u001b[1;32m      2\u001b[0m \u001b[0msc\u001b[0m \u001b[0;34m=\u001b[0m \u001b[0mMinMaxScaler\u001b[0m\u001b[0;34m(\u001b[0m\u001b[0mfeature_range\u001b[0m \u001b[0;34m=\u001b[0m \u001b[0;34m(\u001b[0m\u001b[0;36m0\u001b[0m\u001b[0;34m,\u001b[0m \u001b[0;36m1\u001b[0m\u001b[0;34m)\u001b[0m\u001b[0;34m)\u001b[0m\u001b[0;34m\u001b[0m\u001b[0;34m\u001b[0m\u001b[0m\n\u001b[0;32m----> 3\u001b[0;31m \u001b[0mdf_scaled\u001b[0m \u001b[0;34m=\u001b[0m \u001b[0msc\u001b[0m\u001b[0;34m.\u001b[0m\u001b[0mfit_transform\u001b[0m\u001b[0;34m(\u001b[0m\u001b[0mdtn\u001b[0m\u001b[0;34m)\u001b[0m\u001b[0;34m\u001b[0m\u001b[0;34m\u001b[0m\u001b[0m\n\u001b[0m\u001b[1;32m      4\u001b[0m \u001b[0;34m\u001b[0m\u001b[0m\n\u001b[1;32m      5\u001b[0m \u001b[0;32massert\u001b[0m \u001b[0mnp\u001b[0m\u001b[0;34m.\u001b[0m\u001b[0mshape\u001b[0m\u001b[0;34m(\u001b[0m\u001b[0mdf_scaled\u001b[0m\u001b[0;34m)\u001b[0m  \u001b[0;34m==\u001b[0m \u001b[0mnp\u001b[0m\u001b[0;34m.\u001b[0m\u001b[0mshape\u001b[0m\u001b[0;34m(\u001b[0m\u001b[0mdtn\u001b[0m\u001b[0;34m)\u001b[0m\u001b[0;34m\u001b[0m\u001b[0;34m\u001b[0m\u001b[0m\n",
            "\u001b[0;32m/usr/local/lib/python3.6/dist-packages/sklearn/base.py\u001b[0m in \u001b[0;36mfit_transform\u001b[0;34m(self, X, y, **fit_params)\u001b[0m\n\u001b[1;32m    569\u001b[0m         \u001b[0;32mif\u001b[0m \u001b[0my\u001b[0m \u001b[0;32mis\u001b[0m \u001b[0;32mNone\u001b[0m\u001b[0;34m:\u001b[0m\u001b[0;34m\u001b[0m\u001b[0;34m\u001b[0m\u001b[0m\n\u001b[1;32m    570\u001b[0m             \u001b[0;31m# fit method of arity 1 (unsupervised transformation)\u001b[0m\u001b[0;34m\u001b[0m\u001b[0;34m\u001b[0m\u001b[0;34m\u001b[0m\u001b[0m\n\u001b[0;32m--> 571\u001b[0;31m             \u001b[0;32mreturn\u001b[0m \u001b[0mself\u001b[0m\u001b[0;34m.\u001b[0m\u001b[0mfit\u001b[0m\u001b[0;34m(\u001b[0m\u001b[0mX\u001b[0m\u001b[0;34m,\u001b[0m \u001b[0;34m**\u001b[0m\u001b[0mfit_params\u001b[0m\u001b[0;34m)\u001b[0m\u001b[0;34m.\u001b[0m\u001b[0mtransform\u001b[0m\u001b[0;34m(\u001b[0m\u001b[0mX\u001b[0m\u001b[0;34m)\u001b[0m\u001b[0;34m\u001b[0m\u001b[0;34m\u001b[0m\u001b[0m\n\u001b[0m\u001b[1;32m    572\u001b[0m         \u001b[0;32melse\u001b[0m\u001b[0;34m:\u001b[0m\u001b[0;34m\u001b[0m\u001b[0;34m\u001b[0m\u001b[0m\n\u001b[1;32m    573\u001b[0m             \u001b[0;31m# fit method of arity 2 (supervised transformation)\u001b[0m\u001b[0;34m\u001b[0m\u001b[0;34m\u001b[0m\u001b[0;34m\u001b[0m\u001b[0m\n",
            "\u001b[0;32m/usr/local/lib/python3.6/dist-packages/sklearn/preprocessing/_data.py\u001b[0m in \u001b[0;36mfit\u001b[0;34m(self, X, y)\u001b[0m\n\u001b[1;32m    337\u001b[0m         \u001b[0;31m# Reset internal state before fitting\u001b[0m\u001b[0;34m\u001b[0m\u001b[0;34m\u001b[0m\u001b[0;34m\u001b[0m\u001b[0m\n\u001b[1;32m    338\u001b[0m         \u001b[0mself\u001b[0m\u001b[0;34m.\u001b[0m\u001b[0m_reset\u001b[0m\u001b[0;34m(\u001b[0m\u001b[0;34m)\u001b[0m\u001b[0;34m\u001b[0m\u001b[0;34m\u001b[0m\u001b[0m\n\u001b[0;32m--> 339\u001b[0;31m         \u001b[0;32mreturn\u001b[0m \u001b[0mself\u001b[0m\u001b[0;34m.\u001b[0m\u001b[0mpartial_fit\u001b[0m\u001b[0;34m(\u001b[0m\u001b[0mX\u001b[0m\u001b[0;34m,\u001b[0m \u001b[0my\u001b[0m\u001b[0;34m)\u001b[0m\u001b[0;34m\u001b[0m\u001b[0;34m\u001b[0m\u001b[0m\n\u001b[0m\u001b[1;32m    340\u001b[0m \u001b[0;34m\u001b[0m\u001b[0m\n\u001b[1;32m    341\u001b[0m     \u001b[0;32mdef\u001b[0m \u001b[0mpartial_fit\u001b[0m\u001b[0;34m(\u001b[0m\u001b[0mself\u001b[0m\u001b[0;34m,\u001b[0m \u001b[0mX\u001b[0m\u001b[0;34m,\u001b[0m \u001b[0my\u001b[0m\u001b[0;34m=\u001b[0m\u001b[0;32mNone\u001b[0m\u001b[0;34m)\u001b[0m\u001b[0;34m:\u001b[0m\u001b[0;34m\u001b[0m\u001b[0;34m\u001b[0m\u001b[0m\n",
            "\u001b[0;32m/usr/local/lib/python3.6/dist-packages/sklearn/preprocessing/_data.py\u001b[0m in \u001b[0;36mpartial_fit\u001b[0;34m(self, X, y)\u001b[0m\n\u001b[1;32m    371\u001b[0m         X = check_array(X,\n\u001b[1;32m    372\u001b[0m                         \u001b[0mestimator\u001b[0m\u001b[0;34m=\u001b[0m\u001b[0mself\u001b[0m\u001b[0;34m,\u001b[0m \u001b[0mdtype\u001b[0m\u001b[0;34m=\u001b[0m\u001b[0mFLOAT_DTYPES\u001b[0m\u001b[0;34m,\u001b[0m\u001b[0;34m\u001b[0m\u001b[0;34m\u001b[0m\u001b[0m\n\u001b[0;32m--> 373\u001b[0;31m                         force_all_finite=\"allow-nan\")\n\u001b[0m\u001b[1;32m    374\u001b[0m \u001b[0;34m\u001b[0m\u001b[0m\n\u001b[1;32m    375\u001b[0m         \u001b[0mdata_min\u001b[0m \u001b[0;34m=\u001b[0m \u001b[0mnp\u001b[0m\u001b[0;34m.\u001b[0m\u001b[0mnanmin\u001b[0m\u001b[0;34m(\u001b[0m\u001b[0mX\u001b[0m\u001b[0;34m,\u001b[0m \u001b[0maxis\u001b[0m\u001b[0;34m=\u001b[0m\u001b[0;36m0\u001b[0m\u001b[0;34m)\u001b[0m\u001b[0;34m\u001b[0m\u001b[0;34m\u001b[0m\u001b[0m\n",
            "\u001b[0;32m/usr/local/lib/python3.6/dist-packages/sklearn/utils/validation.py\u001b[0m in \u001b[0;36mcheck_array\u001b[0;34m(array, accept_sparse, accept_large_sparse, dtype, order, copy, force_all_finite, ensure_2d, allow_nd, ensure_min_samples, ensure_min_features, warn_on_dtype, estimator)\u001b[0m\n\u001b[1;32m    529\u001b[0m                     \u001b[0marray\u001b[0m \u001b[0;34m=\u001b[0m \u001b[0marray\u001b[0m\u001b[0;34m.\u001b[0m\u001b[0mastype\u001b[0m\u001b[0;34m(\u001b[0m\u001b[0mdtype\u001b[0m\u001b[0;34m,\u001b[0m \u001b[0mcasting\u001b[0m\u001b[0;34m=\u001b[0m\u001b[0;34m\"unsafe\"\u001b[0m\u001b[0;34m,\u001b[0m \u001b[0mcopy\u001b[0m\u001b[0;34m=\u001b[0m\u001b[0;32mFalse\u001b[0m\u001b[0;34m)\u001b[0m\u001b[0;34m\u001b[0m\u001b[0;34m\u001b[0m\u001b[0m\n\u001b[1;32m    530\u001b[0m                 \u001b[0;32melse\u001b[0m\u001b[0;34m:\u001b[0m\u001b[0;34m\u001b[0m\u001b[0;34m\u001b[0m\u001b[0m\n\u001b[0;32m--> 531\u001b[0;31m                     \u001b[0marray\u001b[0m \u001b[0;34m=\u001b[0m \u001b[0mnp\u001b[0m\u001b[0;34m.\u001b[0m\u001b[0masarray\u001b[0m\u001b[0;34m(\u001b[0m\u001b[0marray\u001b[0m\u001b[0;34m,\u001b[0m \u001b[0morder\u001b[0m\u001b[0;34m=\u001b[0m\u001b[0morder\u001b[0m\u001b[0;34m,\u001b[0m \u001b[0mdtype\u001b[0m\u001b[0;34m=\u001b[0m\u001b[0mdtype\u001b[0m\u001b[0;34m)\u001b[0m\u001b[0;34m\u001b[0m\u001b[0;34m\u001b[0m\u001b[0m\n\u001b[0m\u001b[1;32m    532\u001b[0m             \u001b[0;32mexcept\u001b[0m \u001b[0mComplexWarning\u001b[0m\u001b[0;34m:\u001b[0m\u001b[0;34m\u001b[0m\u001b[0;34m\u001b[0m\u001b[0m\n\u001b[1;32m    533\u001b[0m                 raise ValueError(\"Complex data not supported\\n\"\n",
            "\u001b[0;32m/usr/local/lib/python3.6/dist-packages/numpy/core/_asarray.py\u001b[0m in \u001b[0;36masarray\u001b[0;34m(a, dtype, order)\u001b[0m\n\u001b[1;32m     83\u001b[0m \u001b[0;34m\u001b[0m\u001b[0m\n\u001b[1;32m     84\u001b[0m     \"\"\"\n\u001b[0;32m---> 85\u001b[0;31m     \u001b[0;32mreturn\u001b[0m \u001b[0marray\u001b[0m\u001b[0;34m(\u001b[0m\u001b[0ma\u001b[0m\u001b[0;34m,\u001b[0m \u001b[0mdtype\u001b[0m\u001b[0;34m,\u001b[0m \u001b[0mcopy\u001b[0m\u001b[0;34m=\u001b[0m\u001b[0;32mFalse\u001b[0m\u001b[0;34m,\u001b[0m \u001b[0morder\u001b[0m\u001b[0;34m=\u001b[0m\u001b[0morder\u001b[0m\u001b[0;34m)\u001b[0m\u001b[0;34m\u001b[0m\u001b[0;34m\u001b[0m\u001b[0m\n\u001b[0m\u001b[1;32m     86\u001b[0m \u001b[0;34m\u001b[0m\u001b[0m\n\u001b[1;32m     87\u001b[0m \u001b[0;34m\u001b[0m\u001b[0m\n",
            "\u001b[0;31mValueError\u001b[0m: could not convert string to float: '13/03/19 14:26:00'"
          ]
        }
      ]
    }
  ]
}